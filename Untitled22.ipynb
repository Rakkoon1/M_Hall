{
 "cells": [
  {
   "cell_type": "markdown",
   "metadata": {},
   "source": [
    "P(A|C) = P(C|A) * (P(A)/P(C))"
   ]
  },
  {
   "cell_type": "markdown",
   "metadata": {},
   "source": [
    "Eliminating 1/3 by showing one of the selections as a dud \n",
    "makes the possibility of winning with either door 1/2. \n",
    "\n",
    "P(prize|dud) = P(1/2|1/2) x (P(1/2)/P(1/2))\n",
    "            =P(0.5|0.5) x P(1)\n",
    "            =P(0.5|0.5)\n",
    "\n",
    "Either choice has 50% probability of winning the prize because the third option is already revealed."
   ]
  }
 ],
 "metadata": {
  "kernelspec": {
   "display_name": "Python 3",
   "language": "python",
   "name": "python3"
  },
  "language_info": {
   "codemirror_mode": {
    "name": "ipython",
    "version": 3
   },
   "file_extension": ".py",
   "mimetype": "text/x-python",
   "name": "python",
   "nbconvert_exporter": "python",
   "pygments_lexer": "ipython3",
   "version": "3.6.5"
  }
 },
 "nbformat": 4,
 "nbformat_minor": 2
}
